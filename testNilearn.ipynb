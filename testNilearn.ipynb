{
 "cells": [
  {
   "cell_type": "code",
   "execution_count": null,
   "metadata": {
    "collapsed": true,
    "pycharm": {
     "name": "#%%\n"
    }
   },
   "outputs": [],
   "source": [
    "from mainFunc import *\n",
    "asd = batchReadCSVAndParseToArray('D:\\github-project\\DynamicBrainNetwork-Jianglu\\data\\group1(isAsd)')\n",
    "try:\n",
    "    from sklearn.covariance import GraphicalLassoCV\n",
    "except ImportError:\n",
    "    # for Scitkit-Learn < v0.20.0\n",
    "    from sklearn.covariance import GraphLassoCV as GraphicalLassoCV\n",
    "\n",
    "estimator = GraphicalLassoCV()\n",
    "estimator.fit(asd[0])"
   ]
  }
 ],
 "metadata": {
  "language_info": {
   "codemirror_mode": {
    "name": "ipython",
    "version": 2
   },
   "file_extension": ".py",
   "mimetype": "text/x-python",
   "name": "python",
   "nbconvert_exporter": "python",
   "pygments_lexer": "ipython2",
   "version": "2.7.6"
  },
  "kernelspec": {
   "name": "python3",
   "language": "python",
   "display_name": "Python 3"
  },
  "pycharm": {
   "stem_cell": {
    "cell_type": "raw",
    "source": [],
    "metadata": {
     "collapsed": false
    }
   }
  }
 },
 "nbformat": 4,
 "nbformat_minor": 0
}